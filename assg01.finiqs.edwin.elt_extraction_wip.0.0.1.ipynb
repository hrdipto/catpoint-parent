{
 "cells": [
  {
   "cell_type": "markdown",
   "metadata": {},
   "source": [
    "# Import Required Libraries\n",
    "\n",
    "Write all import scripts in the following cell"
   ]
  },
  {
   "cell_type": "code",
   "execution_count": null,
   "metadata": {},
   "outputs": [],
   "source": []
  },
  {
   "cell_type": "markdown",
   "metadata": {},
   "source": [
    "# Set Environments\n",
    "\n",
    "Write all Environment Setup scripts in the following cell\n",
    "\n",
    "1. inline matplotlib\n",
    "2. Display all columns of Pandas DataFrame\n",
    "3. Display all rows of Pandas DataFrame"
   ]
  },
  {
   "cell_type": "code",
   "execution_count": 2,
   "metadata": {},
   "outputs": [],
   "source": []
  },
  {
   "cell_type": "markdown",
   "metadata": {},
   "source": [
    "# Load Raw CSVs\n",
    "\n",
    "There are 6 csv files containing raw data from the respective sources. The file names and paths are as following-\n",
    "\n",
    "1. './data/raw/T_BORROWER.csv'\n",
    "2. './data/raw/T_LOAN_DETAIL.csv'\n",
    "3. './data/raw/T_CUSTOMER_RELATION.csv'\n",
    "4. './data/raw/T_BILL_GENERATION.csv'\n",
    "5. './data/raw/T_LOAN_SCHEDULE.csv'\n",
    "6. './data/raw/T_BILL_PAYMENT.csv'\n",
    "\n",
    "Note: The description of the data are being provided in ./meta/ folder"
   ]
  },
  {
   "cell_type": "markdown",
   "metadata": {},
   "source": [
    "### Load the csv files into Pandas dataframes\n",
    "\n",
    "The respectieve Pandas DataFrame names should be as following-\n",
    "\n",
    "1. df_raw_borrower\n",
    "2. df_raw_loan\n",
    "3. df_raw_crm\n",
    "4. df_raw_bill\n",
    "5. df_raw_schedule\n",
    "6. df_raw_payment\n",
    "\n",
    "Note:-\n",
    "\n",
    "1. low_memory property should be set to False\n",
    "2. Headers are already in the first row of the resepctive csv files"
   ]
  },
  {
   "cell_type": "code",
   "execution_count": 3,
   "metadata": {},
   "outputs": [],
   "source": []
  },
  {
   "cell_type": "markdown",
   "metadata": {},
   "source": [
    "# Have a glance on the Datasets"
   ]
  },
  {
   "cell_type": "markdown",
   "metadata": {},
   "source": [
    "Use Pandas DataFrame's head() method to get some ideas of the data"
   ]
  },
  {
   "cell_type": "markdown",
   "metadata": {},
   "source": [
    "### df_raw_borrower"
   ]
  },
  {
   "cell_type": "code",
   "execution_count": null,
   "metadata": {},
   "outputs": [],
   "source": []
  },
  {
   "cell_type": "markdown",
   "metadata": {},
   "source": [
    "### df_raw_loan"
   ]
  },
  {
   "cell_type": "code",
   "execution_count": null,
   "metadata": {},
   "outputs": [],
   "source": []
  },
  {
   "cell_type": "markdown",
   "metadata": {},
   "source": [
    "### df_raw_crm"
   ]
  },
  {
   "cell_type": "code",
   "execution_count": null,
   "metadata": {},
   "outputs": [],
   "source": []
  },
  {
   "cell_type": "markdown",
   "metadata": {},
   "source": [
    "### df_raw_bill"
   ]
  },
  {
   "cell_type": "code",
   "execution_count": null,
   "metadata": {},
   "outputs": [],
   "source": []
  },
  {
   "cell_type": "markdown",
   "metadata": {},
   "source": [
    "### df_raw_schedule"
   ]
  },
  {
   "cell_type": "code",
   "execution_count": null,
   "metadata": {},
   "outputs": [],
   "source": []
  },
  {
   "cell_type": "markdown",
   "metadata": {},
   "source": [
    "### df_raw_payment"
   ]
  },
  {
   "cell_type": "code",
   "execution_count": null,
   "metadata": {},
   "outputs": [],
   "source": []
  },
  {
   "cell_type": "markdown",
   "metadata": {},
   "source": [
    "# Copy the Original Datasets\n",
    "\n",
    "All ELT (Extraction, Loading and Transformation) actions and scripts should be done on copy of the RAW DataFrames. We won't do anything on the Original Raw DataFrames.\n",
    "\n",
    "The names of the respective copied DataFrames should be as following-\n",
    "\n",
    "1. df_borrower\n",
    "2. df_loan\n",
    "3. df_crm\n",
    "4. df_bill\n",
    "5. df_schedule\n",
    "6. df_payment"
   ]
  },
  {
   "cell_type": "code",
   "execution_count": 10,
   "metadata": {},
   "outputs": [],
   "source": []
  },
  {
   "cell_type": "markdown",
   "metadata": {},
   "source": [
    "# Meta informations of the Datasets"
   ]
  },
  {
   "cell_type": "markdown",
   "metadata": {},
   "source": [
    "#### Size (Dimension) of Datasets\n",
    "\n",
    "Use Pandas DataFrame's shape() method\n",
    "\n",
    "The output should look like following-\n",
    "\n",
    "<img src=\"./pic/1.png\">"
   ]
  },
  {
   "cell_type": "code",
   "execution_count": null,
   "metadata": {},
   "outputs": [],
   "source": []
  },
  {
   "cell_type": "markdown",
   "metadata": {},
   "source": [
    "#### DataFrame Information\n",
    "\n",
    "Use Pandas DataFrame's info() method\n",
    "\n",
    "The output should look like following-\n",
    "\n",
    "<img src=\"./pic/2.png\">\n",
    "\n",
    "Note: Do this for all 6 DataFrames and have a close look into the outputs. Learn about the Data Structures, Formats and Data Types from the DataFrames."
   ]
  },
  {
   "cell_type": "code",
   "execution_count": null,
   "metadata": {},
   "outputs": [],
   "source": []
  },
  {
   "cell_type": "markdown",
   "metadata": {},
   "source": [
    "#### Data Types\n",
    "\n",
    "Use Pandas DataFrame's dtypes property\n",
    "\n",
    "The output should look like following-\n",
    "\n",
    "<img src=\"./pic/3.png\">\n",
    "\n",
    "Note: Do this for all DataFrames"
   ]
  },
  {
   "cell_type": "code",
   "execution_count": null,
   "metadata": {},
   "outputs": [],
   "source": []
  },
  {
   "cell_type": "markdown",
   "metadata": {},
   "source": [
    "# Convert All Date Strings to Date Time"
   ]
  },
  {
   "cell_type": "markdown",
   "metadata": {},
   "source": [
    "#### Date Converter Helper Function\n",
    "\n",
    "Write a helper method named \"to_dt\" which will convert a String into a Date"
   ]
  },
  {
   "cell_type": "code",
   "execution_count": 16,
   "metadata": {},
   "outputs": [],
   "source": []
  },
  {
   "cell_type": "markdown",
   "metadata": {},
   "source": [
    "#### Convert all Dates\n",
    "\n",
    "Using to_dt method convert all Date Strings to Date Format and Replace the respective columns in the respective DataFrames."
   ]
  },
  {
   "cell_type": "code",
   "execution_count": 21,
   "metadata": {},
   "outputs": [],
   "source": []
  },
  {
   "cell_type": "markdown",
   "metadata": {},
   "source": [
    "Explore Date Ranges for each of the  Date variable (column) in each DataFrames.\n",
    "\n",
    "The output should look like following-\n",
    "\n",
    "<img src=\"./pic/4.png\">\n",
    "\n",
    "Note: Do this for all DataFrames"
   ]
  },
  {
   "cell_type": "code",
   "execution_count": null,
   "metadata": {},
   "outputs": [],
   "source": []
  },
  {
   "cell_type": "markdown",
   "metadata": {},
   "source": [
    "# Save all Extracted DataFrames\n",
    "\n",
    "Save all the 6 extracted DataFrames in the ./data/extracted folder in pickle format.\n",
    "\n",
    "The pickle file names shoulld be as following-\n",
    "\n",
    "1. borrower.pickle\n",
    "2. loan.pickle\n",
    "3. crm.pickle\n",
    "4. bill.pickle\n",
    "5. schedule.pickle\n",
    "6. payment.pickle"
   ]
  },
  {
   "cell_type": "code",
   "execution_count": 23,
   "metadata": {},
   "outputs": [],
   "source": []
  },
  {
   "cell_type": "markdown",
   "metadata": {},
   "source": [
    "# Thank You. Good Day."
   ]
  }
 ],
 "metadata": {
  "kernelspec": {
   "display_name": "Python 3",
   "language": "python",
   "name": "python3"
  },
  "language_info": {
   "codemirror_mode": {
    "name": "ipython",
    "version": 3
   },
   "file_extension": ".py",
   "mimetype": "text/x-python",
   "name": "python",
   "nbconvert_exporter": "python",
   "pygments_lexer": "ipython3",
   "version": "3.7.4"
  }
 },
 "nbformat": 4,
 "nbformat_minor": 4
}
